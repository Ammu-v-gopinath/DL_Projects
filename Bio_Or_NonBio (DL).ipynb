{
  "cells": [
    {
      "cell_type": "markdown",
      "source": [
        "IMPORTING NECESSARY PACKAGES AND LIBRARIES\n"
      ],
      "metadata": {
        "id": "pVwScFxlhz-Z"
      }
    },
    {
      "cell_type": "code",
      "execution_count": null,
      "metadata": {
        "id": "dETPHHO59fBi"
      },
      "outputs": [],
      "source": [
        "from skimage.io import imread\n",
        "from skimage.transform import resize\n",
        "import os\n",
        "import numpy as np\n",
        "from keras.models import Sequential\n",
        "from keras.layers import Dense,Conv2D,MaxPool2D,Flatten"
      ]
    },
    {
      "cell_type": "markdown",
      "source": [
        "CHECKING THE SUBFOLDERS"
      ],
      "metadata": {
        "id": "2ZkP9SW3krBS"
      }
    },
    {
      "cell_type": "markdown",
      "source": [],
      "metadata": {
        "id": "ynz3fbsrjLI0"
      }
    },
    {
      "cell_type": "code",
      "execution_count": null,
      "metadata": {
        "colab": {
          "base_uri": "https://localhost:8080/"
        },
        "id": "1rRE6ThhBxeF",
        "outputId": "bac15a94-8e00-4e6f-a9c6-d138b941a149"
      },
      "outputs": [
        {
          "output_type": "execute_result",
          "data": {
            "text/plain": [
              "['N', 'B']"
            ]
          },
          "metadata": {},
          "execution_count": 2
        }
      ],
      "source": [
        "os.listdir(\"/content/drive/MyDrive/N_B/TRAIN\")"
      ]
    },
    {
      "cell_type": "code",
      "execution_count": null,
      "metadata": {
        "colab": {
          "base_uri": "https://localhost:8080/"
        },
        "id": "-WljMVcLB3Ol",
        "outputId": "5fa60b5c-f74e-4db8-9068-a0be8ad6821a"
      },
      "outputs": [
        {
          "output_type": "execute_result",
          "data": {
            "text/plain": [
              "['N', 'B']"
            ]
          },
          "metadata": {},
          "execution_count": 3
        }
      ],
      "source": [
        "os.listdir(\"/content/drive/MyDrive/N_B/TEST\")"
      ]
    },
    {
      "cell_type": "markdown",
      "source": [
        "READING AND RESIZING THE IMAGE"
      ],
      "metadata": {
        "id": "unRTHN5MlG5R"
      }
    },
    {
      "cell_type": "code",
      "execution_count": null,
      "metadata": {
        "id": "R8IstqmjCjd8"
      },
      "outputs": [],
      "source": [
        "trainpath=\"/content/drive/MyDrive/N_B/TRAIN\""
      ]
    },
    {
      "cell_type": "code",
      "execution_count": null,
      "metadata": {
        "id": "cyhujFZ_COL-",
        "colab": {
          "base_uri": "https://localhost:8080/"
        },
        "outputId": "dbab93a9-e511-4fe3-b64d-dea6a4277308"
      },
      "outputs": [
        {
          "output_type": "stream",
          "name": "stdout",
          "text": [
            "Loaded..... N\n",
            "Loaded..... B\n"
          ]
        }
      ],
      "source": [
        "X_train=[]\n",
        "y_train=[]\n",
        "catgories=['N', 'B']\n",
        "for i in catgories:\n",
        "  subdirpath=os.path.join(trainpath,i)\n",
        "  img=os.listdir(subdirpath)\n",
        "  for j in img:\n",
        "    img_path=os.path.join(subdirpath,j)\n",
        "    img_array=imread(img_path)\n",
        "    img_resize=resize(img_array,(150,150,1))\n",
        "    X_train.append(img_resize)\n",
        "    y_train.append(catgories.index(i))\n",
        "  print(\"Loaded.....\",i)"
      ]
    },
    {
      "cell_type": "code",
      "execution_count": null,
      "metadata": {
        "id": "m18vPxYJCPBV"
      },
      "outputs": [],
      "source": [
        "testpath=\"/content/drive/MyDrive/N_B/TEST\""
      ]
    },
    {
      "cell_type": "code",
      "execution_count": null,
      "metadata": {
        "id": "MoaUzGznDBUk",
        "colab": {
          "base_uri": "https://localhost:8080/"
        },
        "outputId": "14e4d14a-e1e3-417a-e9f9-ba45484bb6da"
      },
      "outputs": [
        {
          "output_type": "stream",
          "name": "stdout",
          "text": [
            "Loaded..... N\n",
            "Loaded..... B\n"
          ]
        }
      ],
      "source": [
        "X_test=[]\n",
        "y_test=[]\n",
        "catgories=['N', 'B']\n",
        "for i in catgories:\n",
        "  subdirpath=os.path.join(testpath,i)\n",
        "  img=os.listdir(subdirpath)\n",
        "  for j in img:\n",
        "    img_path=os.path.join(subdirpath,j)\n",
        "    img_array=imread(img_path)\n",
        "    img_resize=resize(img_array,(150,150,1))\n",
        "    X_test.append(img_resize)\n",
        "    y_test.append(catgories.index(i))\n",
        "  print(\"Loaded.....\",i)"
      ]
    },
    {
      "cell_type": "markdown",
      "source": [
        "CHECKING THE LENGTH"
      ],
      "metadata": {
        "id": "RGx3smrPrMjE"
      }
    },
    {
      "cell_type": "code",
      "execution_count": null,
      "metadata": {
        "id": "ew7WKRh-DKKN",
        "colab": {
          "base_uri": "https://localhost:8080/"
        },
        "collapsed": true,
        "outputId": "bfdeeaa7-dfcd-4a92-cd97-f78c52646548"
      },
      "outputs": [
        {
          "output_type": "execute_result",
          "data": {
            "text/plain": [
              "(2050, 2050)"
            ]
          },
          "metadata": {},
          "execution_count": 8
        }
      ],
      "source": [
        "len(X_train),len(y_train)"
      ]
    },
    {
      "cell_type": "code",
      "execution_count": null,
      "metadata": {
        "id": "zIeuTc1ODLX6",
        "colab": {
          "base_uri": "https://localhost:8080/"
        },
        "collapsed": true,
        "outputId": "ac3760ae-5990-4ab3-ad93-9e69e2b0115a"
      },
      "outputs": [
        {
          "output_type": "execute_result",
          "data": {
            "text/plain": [
              "(1000, 1000)"
            ]
          },
          "metadata": {},
          "execution_count": 9
        }
      ],
      "source": [
        "len(X_test),len(y_test)"
      ]
    },
    {
      "cell_type": "markdown",
      "source": [
        "CONVERTING LIST TO ARRAY\n"
      ],
      "metadata": {
        "id": "TowJ9FgRsBdJ"
      }
    },
    {
      "cell_type": "code",
      "execution_count": null,
      "metadata": {
        "id": "Aw9mizMFDoV4"
      },
      "outputs": [],
      "source": [
        "X_train=np.array(X_train)\n",
        "y_train=np.array(y_train)\n",
        "X_test=np.array(X_test)\n",
        "y_test=np.array(y_test)"
      ]
    },
    {
      "cell_type": "code",
      "execution_count": null,
      "metadata": {
        "id": "0nvILcWjC_jb",
        "colab": {
          "base_uri": "https://localhost:8080/"
        },
        "outputId": "35492126-59e5-4ee7-e706-b12c804e4a72"
      },
      "outputs": [
        {
          "output_type": "execute_result",
          "data": {
            "text/plain": [
              "(2050, 150, 150, 1)"
            ]
          },
          "metadata": {},
          "execution_count": 11
        }
      ],
      "source": [
        "X_train.shape"
      ]
    },
    {
      "cell_type": "markdown",
      "source": [
        "CNN-MODEL"
      ],
      "metadata": {
        "id": "pABReYUR26T2"
      }
    },
    {
      "cell_type": "code",
      "execution_count": null,
      "metadata": {
        "id": "_EowjWxCDOS3"
      },
      "outputs": [],
      "source": [
        "model=Sequential()\n",
        "model.add(Conv2D(32,(3,3),activation=\"relu\",input_shape=(150,150,1)))\n",
        "model.add(MaxPool2D(2,2))\n",
        "model.add(Flatten())\n",
        "model.add(Dense(100,activation=\"relu\"))\n",
        "model.add(Dense(2,activation=\"sigmoid\"))"
      ]
    },
    {
      "cell_type": "code",
      "execution_count": null,
      "metadata": {
        "id": "MS5vFK0WDgl0"
      },
      "outputs": [],
      "source": [
        "model.compile(optimizer=\"adam\",loss=\"sparse_categorical_crossentropy\",metrics=[\"accuracy\"])"
      ]
    },
    {
      "cell_type": "code",
      "execution_count": null,
      "metadata": {
        "id": "WzjBntxpDkRr",
        "colab": {
          "base_uri": "https://localhost:8080/"
        },
        "outputId": "76b78151-6384-49f1-8563-bc128c38e514"
      },
      "outputs": [
        {
          "output_type": "stream",
          "name": "stdout",
          "text": [
            "Epoch 1/20\n",
            "129/129 [==============================] - 5s 12ms/step - loss: 0.8143 - accuracy: 0.6380\n",
            "Epoch 2/20\n",
            "129/129 [==============================] - 1s 11ms/step - loss: 0.4773 - accuracy: 0.7800\n",
            "Epoch 3/20\n",
            "129/129 [==============================] - 1s 11ms/step - loss: 0.3385 - accuracy: 0.8629\n",
            "Epoch 4/20\n",
            "129/129 [==============================] - 2s 13ms/step - loss: 0.2274 - accuracy: 0.9259\n",
            "Epoch 5/20\n",
            "129/129 [==============================] - 2s 13ms/step - loss: 0.1401 - accuracy: 0.9605\n",
            "Epoch 6/20\n",
            "129/129 [==============================] - 2s 13ms/step - loss: 0.0922 - accuracy: 0.9756\n",
            "Epoch 7/20\n",
            "129/129 [==============================] - 2s 13ms/step - loss: 0.0672 - accuracy: 0.9859\n",
            "Epoch 8/20\n",
            "129/129 [==============================] - 2s 12ms/step - loss: 0.0374 - accuracy: 0.9932\n",
            "Epoch 9/20\n",
            "129/129 [==============================] - 2s 12ms/step - loss: 0.0252 - accuracy: 0.9971\n",
            "Epoch 10/20\n",
            "129/129 [==============================] - 1s 11ms/step - loss: 0.0153 - accuracy: 0.9990\n",
            "Epoch 11/20\n",
            "129/129 [==============================] - 1s 11ms/step - loss: 0.0109 - accuracy: 0.9995\n",
            "Epoch 12/20\n",
            "129/129 [==============================] - 1s 11ms/step - loss: 0.0098 - accuracy: 0.9990\n",
            "Epoch 13/20\n",
            "129/129 [==============================] - 1s 11ms/step - loss: 0.0055 - accuracy: 0.9995\n",
            "Epoch 14/20\n",
            "129/129 [==============================] - 1s 11ms/step - loss: 0.0044 - accuracy: 0.9995\n",
            "Epoch 15/20\n",
            "129/129 [==============================] - 1s 11ms/step - loss: 0.0050 - accuracy: 0.9995\n",
            "Epoch 16/20\n",
            "129/129 [==============================] - 2s 12ms/step - loss: 0.0028 - accuracy: 0.9995\n",
            "Epoch 17/20\n",
            "129/129 [==============================] - 2s 13ms/step - loss: 0.0021 - accuracy: 1.0000\n",
            "Epoch 18/20\n",
            "129/129 [==============================] - 2s 13ms/step - loss: 0.0011 - accuracy: 1.0000\n",
            "Epoch 19/20\n",
            "129/129 [==============================] - 2s 13ms/step - loss: 7.6258e-04 - accuracy: 1.0000\n",
            "Epoch 20/20\n",
            "129/129 [==============================] - 1s 11ms/step - loss: 6.0165e-04 - accuracy: 1.0000\n"
          ]
        },
        {
          "output_type": "execute_result",
          "data": {
            "text/plain": [
              "<keras.src.callbacks.History at 0x7b3d841a50c0>"
            ]
          },
          "metadata": {},
          "execution_count": 14
        }
      ],
      "source": [
        "model.fit(X_train,y_train,epochs=20,batch_size=16)"
      ]
    },
    {
      "cell_type": "code",
      "execution_count": null,
      "metadata": {
        "id": "a7vxcYMKJePC",
        "colab": {
          "base_uri": "https://localhost:8080/"
        },
        "outputId": "97488f58-fd4f-48db-ffee-00f01fd05fda"
      },
      "outputs": [
        {
          "output_type": "stream",
          "name": "stdout",
          "text": [
            "32/32 [==============================] - 1s 9ms/step - loss: 1.2552 - accuracy: 0.7570\n"
          ]
        },
        {
          "output_type": "execute_result",
          "data": {
            "text/plain": [
              "[1.2552064657211304, 0.7570000290870667]"
            ]
          },
          "metadata": {},
          "execution_count": 15
        }
      ],
      "source": [
        "model.evaluate(X_test,y_test)"
      ]
    },
    {
      "cell_type": "markdown",
      "source": [
        "PREDICTING"
      ],
      "metadata": {
        "id": "pDGUFyL-2tUQ"
      }
    },
    {
      "cell_type": "code",
      "execution_count": null,
      "metadata": {
        "id": "eQDJOgllJr5B",
        "colab": {
          "base_uri": "https://localhost:8080/",
          "height": 240
        },
        "outputId": "1d69f45a-441c-4b05-91ed-1905fc9cf0e9"
      },
      "outputs": [
        {
          "output_type": "execute_result",
          "data": {
            "text/plain": [
              "array([[[ 98,  98,  98],\n",
              "        [100, 100, 100],\n",
              "        [105, 105, 105],\n",
              "        ...,\n",
              "        [115, 114, 110],\n",
              "        [113, 112, 108],\n",
              "        [111, 110, 106]],\n",
              "\n",
              "       [[122, 122, 122],\n",
              "        [132, 132, 132],\n",
              "        [149, 149, 149],\n",
              "        ...,\n",
              "        [113, 112, 108],\n",
              "        [111, 110, 106],\n",
              "        [109, 108, 104]],\n",
              "\n",
              "       [[163, 163, 163],\n",
              "        [168, 168, 168],\n",
              "        [175, 175, 175],\n",
              "        ...,\n",
              "        [114, 113, 111],\n",
              "        [111, 110, 108],\n",
              "        [109, 108, 106]],\n",
              "\n",
              "       ...,\n",
              "\n",
              "       [[166, 165, 160],\n",
              "        [166, 165, 160],\n",
              "        [166, 165, 160],\n",
              "        ...,\n",
              "        [147, 118,  84],\n",
              "        [145, 119,  84],\n",
              "        [145, 119,  84]],\n",
              "\n",
              "       [[166, 165, 160],\n",
              "        [166, 165, 160],\n",
              "        [166, 165, 160],\n",
              "        ...,\n",
              "        [147, 118,  84],\n",
              "        [146, 120,  85],\n",
              "        [146, 120,  85]],\n",
              "\n",
              "       [[166, 165, 160],\n",
              "        [166, 165, 160],\n",
              "        [166, 165, 160],\n",
              "        ...,\n",
              "        [148, 119,  85],\n",
              "        [146, 120,  85],\n",
              "        [146, 120,  85]]], dtype=uint8)"
            ],
            "text/html": [
              "<style>\n",
              "      .ndarray_repr .ndarray_raw_data {\n",
              "        display: none;\n",
              "      }\n",
              "      .ndarray_repr.show_array .ndarray_raw_data {\n",
              "        display: block;\n",
              "      }\n",
              "      .ndarray_repr.show_array .ndarray_image_preview {\n",
              "        display: none;\n",
              "      }\n",
              "      </style>\n",
              "      <div id=\"id-2245b58c-b85b-4feb-aa47-15c9c3879ca2\" class=\"ndarray_repr\"><pre>ndarray (200, 200, 3) <button style=\"padding: 0 2px;\">show data</button></pre><img src=\"data:image/png;base64,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\" class=\"ndarray_image_preview\" /><pre class=\"ndarray_raw_data\">array([[[ 98,  98,  98],\n",
              "        [100, 100, 100],\n",
              "        [105, 105, 105],\n",
              "        ...,\n",
              "        [115, 114, 110],\n",
              "        [113, 112, 108],\n",
              "        [111, 110, 106]],\n",
              "\n",
              "       [[122, 122, 122],\n",
              "        [132, 132, 132],\n",
              "        [149, 149, 149],\n",
              "        ...,\n",
              "        [113, 112, 108],\n",
              "        [111, 110, 106],\n",
              "        [109, 108, 104]],\n",
              "\n",
              "       [[163, 163, 163],\n",
              "        [168, 168, 168],\n",
              "        [175, 175, 175],\n",
              "        ...,\n",
              "        [114, 113, 111],\n",
              "        [111, 110, 108],\n",
              "        [109, 108, 106]],\n",
              "\n",
              "       ...,\n",
              "\n",
              "       [[166, 165, 160],\n",
              "        [166, 165, 160],\n",
              "        [166, 165, 160],\n",
              "        ...,\n",
              "        [147, 118,  84],\n",
              "        [145, 119,  84],\n",
              "        [145, 119,  84]],\n",
              "\n",
              "       [[166, 165, 160],\n",
              "        [166, 165, 160],\n",
              "        [166, 165, 160],\n",
              "        ...,\n",
              "        [147, 118,  84],\n",
              "        [146, 120,  85],\n",
              "        [146, 120,  85]],\n",
              "\n",
              "       [[166, 165, 160],\n",
              "        [166, 165, 160],\n",
              "        [166, 165, 160],\n",
              "        ...,\n",
              "        [148, 119,  85],\n",
              "        [146, 120,  85],\n",
              "        [146, 120,  85]]], dtype=uint8)</pre></div><script>\n",
              "      (() => {\n",
              "      const titles = ['show data', 'hide data'];\n",
              "      let index = 0\n",
              "      document.querySelector('#id-2245b58c-b85b-4feb-aa47-15c9c3879ca2 button').onclick = (e) => {\n",
              "        document.querySelector('#id-2245b58c-b85b-4feb-aa47-15c9c3879ca2').classList.toggle('show_array');\n",
              "        index = (++index) % 2;\n",
              "        document.querySelector('#id-2245b58c-b85b-4feb-aa47-15c9c3879ca2 button').textContent = titles[index];\n",
              "        e.preventDefault();\n",
              "        e.stopPropagation();\n",
              "      }\n",
              "      })();\n",
              "    </script>"
            ]
          },
          "metadata": {},
          "execution_count": 16
        }
      ],
      "source": [
        "imgpath=\"/content/drive/MyDrive/N_B/TRAIN/B/TEST_BIODEG_HFL_110.jpg\"\n",
        "img=imread(imgpath)\n",
        "img"
      ]
    },
    {
      "cell_type": "code",
      "execution_count": null,
      "metadata": {
        "id": "tjyKSoovKKyt"
      },
      "outputs": [],
      "source": [
        "img=resize(img,(150,150,1))"
      ]
    },
    {
      "cell_type": "code",
      "execution_count": null,
      "metadata": {
        "id": "1eAnJYdtma3M"
      },
      "outputs": [],
      "source": [
        "img=img.reshape(1,150,150,1)"
      ]
    },
    {
      "cell_type": "code",
      "execution_count": null,
      "metadata": {
        "id": "nKls-mPLKWUv",
        "colab": {
          "base_uri": "https://localhost:8080/"
        },
        "outputId": "dd002661-9e9c-4dd1-dd9b-4120993e11ae"
      },
      "outputs": [
        {
          "output_type": "stream",
          "name": "stdout",
          "text": [
            "1/1 [==============================] - 0s 226ms/step\n"
          ]
        },
        {
          "output_type": "execute_result",
          "data": {
            "text/plain": [
              "array([[0.01016176, 0.6150449 ]], dtype=float32)"
            ]
          },
          "metadata": {},
          "execution_count": 19
        }
      ],
      "source": [
        "y_pred=model.predict(img)\n",
        "y_pred"
      ]
    },
    {
      "cell_type": "code",
      "execution_count": null,
      "metadata": {
        "id": "dGhvrkaYKcHM",
        "colab": {
          "base_uri": "https://localhost:8080/"
        },
        "outputId": "17855b0e-1065-4749-9d7c-56ea67a1c892"
      },
      "outputs": [
        {
          "output_type": "execute_result",
          "data": {
            "text/plain": [
              "array([1])"
            ]
          },
          "metadata": {},
          "execution_count": 20
        }
      ],
      "source": [
        "y_new=np.argmax(y_pred,axis=1)\n",
        "y_new\n"
      ]
    },
    {
      "cell_type": "code",
      "execution_count": null,
      "metadata": {
        "id": "8qmF855HK02w",
        "colab": {
          "base_uri": "https://localhost:8080/",
          "height": 36
        },
        "outputId": "80252b00-43ac-4e10-bd6c-f8c915faf771"
      },
      "outputs": [
        {
          "output_type": "execute_result",
          "data": {
            "text/plain": [
              "'B'"
            ],
            "application/vnd.google.colaboratory.intrinsic+json": {
              "type": "string"
            }
          },
          "metadata": {},
          "execution_count": 21
        }
      ],
      "source": [
        "catgories[y_new.item()]\n"
      ]
    },
    {
      "cell_type": "code",
      "execution_count": null,
      "metadata": {
        "id": "m-LsZ2DL7S6B"
      },
      "outputs": [],
      "source": []
    }
  ],
  "metadata": {
    "accelerator": "GPU",
    "colab": {
      "gpuType": "T4",
      "provenance": []
    },
    "kernelspec": {
      "display_name": "Python 3",
      "name": "python3"
    },
    "language_info": {
      "name": "python"
    }
  },
  "nbformat": 4,
  "nbformat_minor": 0
}